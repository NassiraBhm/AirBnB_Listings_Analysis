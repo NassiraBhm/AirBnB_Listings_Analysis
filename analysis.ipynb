{
 "cells": [
  {
   "cell_type": "markdown",
   "id": "6657f32b",
   "metadata": {},
   "source": [
    "## AirBnB Listing Analysis:\n",
    "As AirBnB has grown in popularity, it has increasingly become the focus of regulations designed to limit the number of properties listed in each city.\n",
    "In this project, we're analyzing Paris listings with a focus on pricing and the number of hosts. We want to know whether the regulations adopted in 2015 impacted the listings in this city."
   ]
  },
  {
   "cell_type": "code",
   "execution_count": 1,
   "id": "c6630b79",
   "metadata": {},
   "outputs": [
    {
     "name": "stderr",
     "output_type": "stream",
     "text": [
      "c:\\Users\\hp\\anaconda3\\pandas\\core\\arrays\\masked.py:60: UserWarning: Pandas requires version '1.3.6' or newer of 'bottleneck' (version '1.3.5' currently installed).\n",
      "  from pandas.core import (\n"
     ]
    }
   ],
   "source": [
    "import pandas as pd"
   ]
  },
  {
   "cell_type": "code",
   "execution_count": 4,
   "id": "945958c7",
   "metadata": {},
   "outputs": [
    {
     "name": "stderr",
     "output_type": "stream",
     "text": [
      "C:\\Users\\hp\\AppData\\Local\\Temp\\ipykernel_8076\\1148699358.py:1: DtypeWarning: Columns (5,13) have mixed types. Specify dtype option on import or set low_memory=False.\n",
      "  listings = pd.read_csv('Listings.csv', encoding='latin1')\n"
     ]
    }
   ],
   "source": [
    "listings = pd.read_csv('Listings.csv', encoding='latin1')"
   ]
  },
  {
   "cell_type": "code",
   "execution_count": 5,
   "id": "ff61491e",
   "metadata": {},
   "outputs": [
    {
     "data": {
      "application/vnd.microsoft.datawrangler.viewer.v0+json": {
       "columns": [
        {
         "name": "index",
         "rawType": "int64",
         "type": "integer"
        },
        {
         "name": "listing_id",
         "rawType": "int64",
         "type": "integer"
        },
        {
         "name": "name",
         "rawType": "object",
         "type": "string"
        },
        {
         "name": "host_id",
         "rawType": "int64",
         "type": "integer"
        },
        {
         "name": "host_since",
         "rawType": "object",
         "type": "string"
        },
        {
         "name": "host_location",
         "rawType": "object",
         "type": "string"
        },
        {
         "name": "host_response_time",
         "rawType": "object",
         "type": "unknown"
        },
        {
         "name": "host_response_rate",
         "rawType": "float64",
         "type": "float"
        },
        {
         "name": "host_acceptance_rate",
         "rawType": "float64",
         "type": "float"
        },
        {
         "name": "host_is_superhost",
         "rawType": "object",
         "type": "string"
        },
        {
         "name": "host_total_listings_count",
         "rawType": "float64",
         "type": "float"
        },
        {
         "name": "host_has_profile_pic",
         "rawType": "object",
         "type": "string"
        },
        {
         "name": "host_identity_verified",
         "rawType": "object",
         "type": "string"
        },
        {
         "name": "neighbourhood",
         "rawType": "object",
         "type": "string"
        },
        {
         "name": "district",
         "rawType": "object",
         "type": "unknown"
        },
        {
         "name": "city",
         "rawType": "object",
         "type": "string"
        },
        {
         "name": "latitude",
         "rawType": "float64",
         "type": "float"
        },
        {
         "name": "longitude",
         "rawType": "float64",
         "type": "float"
        },
        {
         "name": "property_type",
         "rawType": "object",
         "type": "string"
        },
        {
         "name": "room_type",
         "rawType": "object",
         "type": "string"
        },
        {
         "name": "accommodates",
         "rawType": "int64",
         "type": "integer"
        },
        {
         "name": "bedrooms",
         "rawType": "float64",
         "type": "float"
        },
        {
         "name": "amenities",
         "rawType": "object",
         "type": "string"
        },
        {
         "name": "price",
         "rawType": "int64",
         "type": "integer"
        },
        {
         "name": "minimum_nights",
         "rawType": "int64",
         "type": "integer"
        },
        {
         "name": "maximum_nights",
         "rawType": "int64",
         "type": "integer"
        },
        {
         "name": "review_scores_rating",
         "rawType": "float64",
         "type": "float"
        },
        {
         "name": "review_scores_accuracy",
         "rawType": "float64",
         "type": "float"
        },
        {
         "name": "review_scores_cleanliness",
         "rawType": "float64",
         "type": "float"
        },
        {
         "name": "review_scores_checkin",
         "rawType": "float64",
         "type": "float"
        },
        {
         "name": "review_scores_communication",
         "rawType": "float64",
         "type": "float"
        },
        {
         "name": "review_scores_location",
         "rawType": "float64",
         "type": "float"
        },
        {
         "name": "review_scores_value",
         "rawType": "float64",
         "type": "float"
        },
        {
         "name": "instant_bookable",
         "rawType": "object",
         "type": "string"
        }
       ],
       "ref": "a98034aa-9218-4d71-8fac-0dd93e90c134",
       "rows": [
        [
         "0",
         "281420",
         "Beautiful Flat in le Village Montmartre, Paris",
         "1466919",
         "2011-12-03",
         "Paris, Ile-de-France, France",
         null,
         null,
         null,
         "f",
         "1.0",
         "t",
         "f",
         "Buttes-Montmartre",
         null,
         "Paris",
         "48.88668",
         "2.33343",
         "Entire apartment",
         "Entire place",
         "2",
         "1.0",
         "[\"Heating\", \"Kitchen\", \"Washer\", \"Wifi\", \"Long term stays allowed\"]",
         "53",
         "2",
         "1125",
         "100.0",
         "10.0",
         "10.0",
         "10.0",
         "10.0",
         "10.0",
         "10.0",
         "f"
        ],
        [
         "1",
         "3705183",
         "39 mÃÂ² Paris (Sacre CÃâur)",
         "10328771",
         "2013-11-29",
         "Paris, Ile-de-France, France",
         null,
         null,
         null,
         "f",
         "1.0",
         "t",
         "t",
         "Buttes-Montmartre",
         null,
         "Paris",
         "48.88617",
         "2.34515",
         "Entire apartment",
         "Entire place",
         "2",
         "1.0",
         "[\"Shampoo\", \"Heating\", \"Kitchen\", \"Essentials\", \"Washer\", \"Dryer\", \"Wifi\", \"Long term stays allowed\"]",
         "120",
         "2",
         "1125",
         "100.0",
         "10.0",
         "10.0",
         "10.0",
         "10.0",
         "10.0",
         "10.0",
         "f"
        ],
        [
         "2",
         "4082273",
         "Lovely apartment with Terrace, 60m2",
         "19252768",
         "2014-07-31",
         "Paris, Ile-de-France, France",
         null,
         null,
         null,
         "f",
         "1.0",
         "t",
         "f",
         "Elysee",
         null,
         "Paris",
         "48.88112",
         "2.31712",
         "Entire apartment",
         "Entire place",
         "2",
         "1.0",
         "[\"Heating\", \"TV\", \"Kitchen\", \"Washer\", \"Wifi\", \"Long term stays allowed\"]",
         "89",
         "2",
         "1125",
         "100.0",
         "10.0",
         "10.0",
         "10.0",
         "10.0",
         "10.0",
         "10.0",
         "f"
        ],
        [
         "3",
         "4797344",
         "Cosy studio (close to Eiffel tower)",
         "10668311",
         "2013-12-17",
         "Paris, Ile-de-France, France",
         null,
         null,
         null,
         "f",
         "1.0",
         "t",
         "t",
         "Vaugirard",
         null,
         "Paris",
         "48.84571",
         "2.30584",
         "Entire apartment",
         "Entire place",
         "2",
         "1.0",
         "[\"Heating\", \"TV\", \"Kitchen\", \"Wifi\", \"Long term stays allowed\"]",
         "58",
         "2",
         "1125",
         "100.0",
         "10.0",
         "10.0",
         "10.0",
         "10.0",
         "10.0",
         "10.0",
         "f"
        ],
        [
         "4",
         "4823489",
         "Close to Eiffel Tower - Beautiful flat : 2 rooms",
         "24837558",
         "2014-12-14",
         "Paris, Ile-de-France, France",
         null,
         null,
         null,
         "f",
         "1.0",
         "t",
         "f",
         "Passy",
         null,
         "Paris",
         "48.855",
         "2.26979",
         "Entire apartment",
         "Entire place",
         "2",
         "1.0",
         "[\"Heating\", \"TV\", \"Kitchen\", \"Essentials\", \"Hair dryer\", \"Washer\", \"Dryer\", \"Bathtub\", \"Wifi\", \"Elevator\", \"Long term stays allowed\", \"Cable TV\"]",
         "60",
         "2",
         "1125",
         "100.0",
         "10.0",
         "10.0",
         "10.0",
         "10.0",
         "10.0",
         "10.0",
         "f"
        ]
       ],
       "shape": {
        "columns": 33,
        "rows": 5
       }
      },
      "text/html": [
       "<div>\n",
       "<style scoped>\n",
       "    .dataframe tbody tr th:only-of-type {\n",
       "        vertical-align: middle;\n",
       "    }\n",
       "\n",
       "    .dataframe tbody tr th {\n",
       "        vertical-align: top;\n",
       "    }\n",
       "\n",
       "    .dataframe thead th {\n",
       "        text-align: right;\n",
       "    }\n",
       "</style>\n",
       "<table border=\"1\" class=\"dataframe\">\n",
       "  <thead>\n",
       "    <tr style=\"text-align: right;\">\n",
       "      <th></th>\n",
       "      <th>listing_id</th>\n",
       "      <th>name</th>\n",
       "      <th>host_id</th>\n",
       "      <th>host_since</th>\n",
       "      <th>host_location</th>\n",
       "      <th>host_response_time</th>\n",
       "      <th>host_response_rate</th>\n",
       "      <th>host_acceptance_rate</th>\n",
       "      <th>host_is_superhost</th>\n",
       "      <th>host_total_listings_count</th>\n",
       "      <th>...</th>\n",
       "      <th>minimum_nights</th>\n",
       "      <th>maximum_nights</th>\n",
       "      <th>review_scores_rating</th>\n",
       "      <th>review_scores_accuracy</th>\n",
       "      <th>review_scores_cleanliness</th>\n",
       "      <th>review_scores_checkin</th>\n",
       "      <th>review_scores_communication</th>\n",
       "      <th>review_scores_location</th>\n",
       "      <th>review_scores_value</th>\n",
       "      <th>instant_bookable</th>\n",
       "    </tr>\n",
       "  </thead>\n",
       "  <tbody>\n",
       "    <tr>\n",
       "      <th>0</th>\n",
       "      <td>281420</td>\n",
       "      <td>Beautiful Flat in le Village Montmartre, Paris</td>\n",
       "      <td>1466919</td>\n",
       "      <td>2011-12-03</td>\n",
       "      <td>Paris, Ile-de-France, France</td>\n",
       "      <td>NaN</td>\n",
       "      <td>NaN</td>\n",
       "      <td>NaN</td>\n",
       "      <td>f</td>\n",
       "      <td>1.0</td>\n",
       "      <td>...</td>\n",
       "      <td>2</td>\n",
       "      <td>1125</td>\n",
       "      <td>100.0</td>\n",
       "      <td>10.0</td>\n",
       "      <td>10.0</td>\n",
       "      <td>10.0</td>\n",
       "      <td>10.0</td>\n",
       "      <td>10.0</td>\n",
       "      <td>10.0</td>\n",
       "      <td>f</td>\n",
       "    </tr>\n",
       "    <tr>\n",
       "      <th>1</th>\n",
       "      <td>3705183</td>\n",
       "      <td>39 mÃÂ² Paris (Sacre CÃâur)</td>\n",
       "      <td>10328771</td>\n",
       "      <td>2013-11-29</td>\n",
       "      <td>Paris, Ile-de-France, France</td>\n",
       "      <td>NaN</td>\n",
       "      <td>NaN</td>\n",
       "      <td>NaN</td>\n",
       "      <td>f</td>\n",
       "      <td>1.0</td>\n",
       "      <td>...</td>\n",
       "      <td>2</td>\n",
       "      <td>1125</td>\n",
       "      <td>100.0</td>\n",
       "      <td>10.0</td>\n",
       "      <td>10.0</td>\n",
       "      <td>10.0</td>\n",
       "      <td>10.0</td>\n",
       "      <td>10.0</td>\n",
       "      <td>10.0</td>\n",
       "      <td>f</td>\n",
       "    </tr>\n",
       "    <tr>\n",
       "      <th>2</th>\n",
       "      <td>4082273</td>\n",
       "      <td>Lovely apartment with Terrace, 60m2</td>\n",
       "      <td>19252768</td>\n",
       "      <td>2014-07-31</td>\n",
       "      <td>Paris, Ile-de-France, France</td>\n",
       "      <td>NaN</td>\n",
       "      <td>NaN</td>\n",
       "      <td>NaN</td>\n",
       "      <td>f</td>\n",
       "      <td>1.0</td>\n",
       "      <td>...</td>\n",
       "      <td>2</td>\n",
       "      <td>1125</td>\n",
       "      <td>100.0</td>\n",
       "      <td>10.0</td>\n",
       "      <td>10.0</td>\n",
       "      <td>10.0</td>\n",
       "      <td>10.0</td>\n",
       "      <td>10.0</td>\n",
       "      <td>10.0</td>\n",
       "      <td>f</td>\n",
       "    </tr>\n",
       "    <tr>\n",
       "      <th>3</th>\n",
       "      <td>4797344</td>\n",
       "      <td>Cosy studio (close to Eiffel tower)</td>\n",
       "      <td>10668311</td>\n",
       "      <td>2013-12-17</td>\n",
       "      <td>Paris, Ile-de-France, France</td>\n",
       "      <td>NaN</td>\n",
       "      <td>NaN</td>\n",
       "      <td>NaN</td>\n",
       "      <td>f</td>\n",
       "      <td>1.0</td>\n",
       "      <td>...</td>\n",
       "      <td>2</td>\n",
       "      <td>1125</td>\n",
       "      <td>100.0</td>\n",
       "      <td>10.0</td>\n",
       "      <td>10.0</td>\n",
       "      <td>10.0</td>\n",
       "      <td>10.0</td>\n",
       "      <td>10.0</td>\n",
       "      <td>10.0</td>\n",
       "      <td>f</td>\n",
       "    </tr>\n",
       "    <tr>\n",
       "      <th>4</th>\n",
       "      <td>4823489</td>\n",
       "      <td>Close to Eiffel Tower - Beautiful flat : 2 rooms</td>\n",
       "      <td>24837558</td>\n",
       "      <td>2014-12-14</td>\n",
       "      <td>Paris, Ile-de-France, France</td>\n",
       "      <td>NaN</td>\n",
       "      <td>NaN</td>\n",
       "      <td>NaN</td>\n",
       "      <td>f</td>\n",
       "      <td>1.0</td>\n",
       "      <td>...</td>\n",
       "      <td>2</td>\n",
       "      <td>1125</td>\n",
       "      <td>100.0</td>\n",
       "      <td>10.0</td>\n",
       "      <td>10.0</td>\n",
       "      <td>10.0</td>\n",
       "      <td>10.0</td>\n",
       "      <td>10.0</td>\n",
       "      <td>10.0</td>\n",
       "      <td>f</td>\n",
       "    </tr>\n",
       "  </tbody>\n",
       "</table>\n",
       "<p>5 rows × 33 columns</p>\n",
       "</div>"
      ],
      "text/plain": [
       "   listing_id                                              name   host_id  \\\n",
       "0      281420    Beautiful Flat in le Village Montmartre, Paris   1466919   \n",
       "1     3705183                   39 mÃÂ² Paris (Sacre CÃ\n",
       "âur)  10328771   \n",
       "2     4082273               Lovely apartment with Terrace, 60m2  19252768   \n",
       "3     4797344               Cosy studio (close to Eiffel tower)  10668311   \n",
       "4     4823489  Close to Eiffel Tower - Beautiful flat : 2 rooms  24837558   \n",
       "\n",
       "   host_since                 host_location host_response_time  \\\n",
       "0  2011-12-03  Paris, Ile-de-France, France                NaN   \n",
       "1  2013-11-29  Paris, Ile-de-France, France                NaN   \n",
       "2  2014-07-31  Paris, Ile-de-France, France                NaN   \n",
       "3  2013-12-17  Paris, Ile-de-France, France                NaN   \n",
       "4  2014-12-14  Paris, Ile-de-France, France                NaN   \n",
       "\n",
       "   host_response_rate  host_acceptance_rate host_is_superhost  \\\n",
       "0                 NaN                   NaN                 f   \n",
       "1                 NaN                   NaN                 f   \n",
       "2                 NaN                   NaN                 f   \n",
       "3                 NaN                   NaN                 f   \n",
       "4                 NaN                   NaN                 f   \n",
       "\n",
       "   host_total_listings_count  ... minimum_nights maximum_nights  \\\n",
       "0                        1.0  ...              2           1125   \n",
       "1                        1.0  ...              2           1125   \n",
       "2                        1.0  ...              2           1125   \n",
       "3                        1.0  ...              2           1125   \n",
       "4                        1.0  ...              2           1125   \n",
       "\n",
       "  review_scores_rating review_scores_accuracy review_scores_cleanliness  \\\n",
       "0                100.0                   10.0                      10.0   \n",
       "1                100.0                   10.0                      10.0   \n",
       "2                100.0                   10.0                      10.0   \n",
       "3                100.0                   10.0                      10.0   \n",
       "4                100.0                   10.0                      10.0   \n",
       "\n",
       "   review_scores_checkin  review_scores_communication review_scores_location  \\\n",
       "0                   10.0                         10.0                   10.0   \n",
       "1                   10.0                         10.0                   10.0   \n",
       "2                   10.0                         10.0                   10.0   \n",
       "3                   10.0                         10.0                   10.0   \n",
       "4                   10.0                         10.0                   10.0   \n",
       "\n",
       "  review_scores_value  instant_bookable  \n",
       "0                10.0                 f  \n",
       "1                10.0                 f  \n",
       "2                10.0                 f  \n",
       "3                10.0                 f  \n",
       "4                10.0                 f  \n",
       "\n",
       "[5 rows x 33 columns]"
      ]
     },
     "execution_count": 5,
     "metadata": {},
     "output_type": "execute_result"
    }
   ],
   "source": [
    "listings.head()"
   ]
  },
  {
   "cell_type": "code",
   "execution_count": 6,
   "id": "53b90b26",
   "metadata": {},
   "outputs": [
    {
     "data": {
      "text/plain": [
       "Index(['listing_id', 'name', 'host_id', 'host_since', 'host_location',\n",
       "       'host_response_time', 'host_response_rate', 'host_acceptance_rate',\n",
       "       'host_is_superhost', 'host_total_listings_count',\n",
       "       'host_has_profile_pic', 'host_identity_verified', 'neighbourhood',\n",
       "       'district', 'city', 'latitude', 'longitude', 'property_type',\n",
       "       'room_type', 'accommodates', 'bedrooms', 'amenities', 'price',\n",
       "       'minimum_nights', 'maximum_nights', 'review_scores_rating',\n",
       "       'review_scores_accuracy', 'review_scores_cleanliness',\n",
       "       'review_scores_checkin', 'review_scores_communication',\n",
       "       'review_scores_location', 'review_scores_value', 'instant_bookable'],\n",
       "      dtype='object')"
      ]
     },
     "execution_count": 6,
     "metadata": {},
     "output_type": "execute_result"
    }
   ],
   "source": [
    "listings.columns"
   ]
  },
  {
   "cell_type": "code",
   "execution_count": 9,
   "id": "ee1ac50b",
   "metadata": {},
   "outputs": [],
   "source": [
    "listings['host_since']=pd.to_datetime(listings['host_since'])"
   ]
  },
  {
   "cell_type": "code",
   "execution_count": 59,
   "id": "249461f6",
   "metadata": {},
   "outputs": [],
   "source": [
    "listingsInParis = listings[listings['city'] == 'Paris']"
   ]
  },
  {
   "cell_type": "code",
   "execution_count": 60,
   "id": "f9ab21d2",
   "metadata": {},
   "outputs": [],
   "source": [
    "listingsInParis = listingsInParis[['host_since', 'neighbourhood', 'city', 'accommodates', 'price']]"
   ]
  },
  {
   "cell_type": "code",
   "execution_count": 61,
   "id": "2cfdd036",
   "metadata": {},
   "outputs": [
    {
     "data": {
      "application/vnd.microsoft.datawrangler.viewer.v0+json": {
       "columns": [
        {
         "name": "index",
         "rawType": "object",
         "type": "string"
        },
        {
         "name": "host_since",
         "rawType": "object",
         "type": "unknown"
        },
        {
         "name": "accommodates",
         "rawType": "float64",
         "type": "float"
        },
        {
         "name": "price",
         "rawType": "float64",
         "type": "float"
        }
       ],
       "ref": "9117eee0-d10b-4355-b963-042f9109293b",
       "rows": [
        [
         "count",
         "64657",
         "64690.0",
         "64690.0"
        ],
        [
         "mean",
         "2015-11-01 11:06:05.528867584",
         "3.0379965991652496",
         "113.09644458185191"
        ],
        [
         "min",
         "2008-08-30 00:00:00",
         "0.0",
         "0.0"
        ],
        [
         "25%",
         "2014-03-09 00:00:00",
         "2.0",
         "59.0"
        ],
        [
         "50%",
         "2015-07-07 00:00:00",
         "2.0",
         "80.0"
        ],
        [
         "75%",
         "2017-05-29 00:00:00",
         "4.0",
         "120.0"
        ],
        [
         "max",
         "2021-02-07 00:00:00",
         "16.0",
         "12000.0"
        ],
        [
         "std",
         null,
         "1.5887664492908853",
         "214.43366808203155"
        ]
       ],
       "shape": {
        "columns": 3,
        "rows": 8
       }
      },
      "text/html": [
       "<div>\n",
       "<style scoped>\n",
       "    .dataframe tbody tr th:only-of-type {\n",
       "        vertical-align: middle;\n",
       "    }\n",
       "\n",
       "    .dataframe tbody tr th {\n",
       "        vertical-align: top;\n",
       "    }\n",
       "\n",
       "    .dataframe thead th {\n",
       "        text-align: right;\n",
       "    }\n",
       "</style>\n",
       "<table border=\"1\" class=\"dataframe\">\n",
       "  <thead>\n",
       "    <tr style=\"text-align: right;\">\n",
       "      <th></th>\n",
       "      <th>host_since</th>\n",
       "      <th>accommodates</th>\n",
       "      <th>price</th>\n",
       "    </tr>\n",
       "  </thead>\n",
       "  <tbody>\n",
       "    <tr>\n",
       "      <th>count</th>\n",
       "      <td>64657</td>\n",
       "      <td>64690.000000</td>\n",
       "      <td>64690.000000</td>\n",
       "    </tr>\n",
       "    <tr>\n",
       "      <th>mean</th>\n",
       "      <td>2015-11-01 11:06:05.528867584</td>\n",
       "      <td>3.037997</td>\n",
       "      <td>113.096445</td>\n",
       "    </tr>\n",
       "    <tr>\n",
       "      <th>min</th>\n",
       "      <td>2008-08-30 00:00:00</td>\n",
       "      <td>0.000000</td>\n",
       "      <td>0.000000</td>\n",
       "    </tr>\n",
       "    <tr>\n",
       "      <th>25%</th>\n",
       "      <td>2014-03-09 00:00:00</td>\n",
       "      <td>2.000000</td>\n",
       "      <td>59.000000</td>\n",
       "    </tr>\n",
       "    <tr>\n",
       "      <th>50%</th>\n",
       "      <td>2015-07-07 00:00:00</td>\n",
       "      <td>2.000000</td>\n",
       "      <td>80.000000</td>\n",
       "    </tr>\n",
       "    <tr>\n",
       "      <th>75%</th>\n",
       "      <td>2017-05-29 00:00:00</td>\n",
       "      <td>4.000000</td>\n",
       "      <td>120.000000</td>\n",
       "    </tr>\n",
       "    <tr>\n",
       "      <th>max</th>\n",
       "      <td>2021-02-07 00:00:00</td>\n",
       "      <td>16.000000</td>\n",
       "      <td>12000.000000</td>\n",
       "    </tr>\n",
       "    <tr>\n",
       "      <th>std</th>\n",
       "      <td>NaN</td>\n",
       "      <td>1.588766</td>\n",
       "      <td>214.433668</td>\n",
       "    </tr>\n",
       "  </tbody>\n",
       "</table>\n",
       "</div>"
      ],
      "text/plain": [
       "                          host_since  accommodates         price\n",
       "count                          64657  64690.000000  64690.000000\n",
       "mean   2015-11-01 11:06:05.528867584      3.037997    113.096445\n",
       "min              2008-08-30 00:00:00      0.000000      0.000000\n",
       "25%              2014-03-09 00:00:00      2.000000     59.000000\n",
       "50%              2015-07-07 00:00:00      2.000000     80.000000\n",
       "75%              2017-05-29 00:00:00      4.000000    120.000000\n",
       "max              2021-02-07 00:00:00     16.000000  12000.000000\n",
       "std                              NaN      1.588766    214.433668"
      ]
     },
     "execution_count": 61,
     "metadata": {},
     "output_type": "execute_result"
    }
   ],
   "source": [
    "listingsInParis.describe()"
   ]
  },
  {
   "cell_type": "code",
   "execution_count": 62,
   "id": "d9e619f6",
   "metadata": {},
   "outputs": [
    {
     "data": {
      "application/vnd.microsoft.datawrangler.viewer.v0+json": {
       "columns": [
        {
         "name": "index",
         "rawType": "object",
         "type": "string"
        },
        {
         "name": "0",
         "rawType": "int64",
         "type": "integer"
        }
       ],
       "ref": "b599a667-01b9-47c7-be91-8afd5e55a712",
       "rows": [
        [
         "host_since",
         "33"
        ],
        [
         "neighbourhood",
         "0"
        ],
        [
         "city",
         "0"
        ],
        [
         "accommodates",
         "0"
        ],
        [
         "price",
         "0"
        ]
       ],
       "shape": {
        "columns": 1,
        "rows": 5
       }
      },
      "text/plain": [
       "host_since       33\n",
       "neighbourhood     0\n",
       "city              0\n",
       "accommodates      0\n",
       "price             0\n",
       "dtype: int64"
      ]
     },
     "execution_count": 62,
     "metadata": {},
     "output_type": "execute_result"
    }
   ],
   "source": [
    "listingsInParis.isnull().sum()"
   ]
  },
  {
   "cell_type": "code",
   "execution_count": 63,
   "id": "e4001219",
   "metadata": {},
   "outputs": [],
   "source": [
    "paris_listings_neighbourhood = listingsInParis.groupby('neighbourhood').agg(avg_price=('price', 'mean')).sort_values(by='avg_price', ascending=True)"
   ]
  },
  {
   "cell_type": "code",
   "execution_count": 64,
   "id": "179ef8a9",
   "metadata": {},
   "outputs": [
    {
     "name": "stdout",
     "output_type": "stream",
     "text": [
      "                      avg_price\n",
      "neighbourhood                  \n",
      "Menilmontant          74.942257\n",
      "Buttes-Chaumont       82.690182\n",
      "Buttes-Montmartre     87.209479\n",
      "Reuilly               89.058402\n",
      "Popincourt            90.559459\n",
      "Gobelins              98.110184\n",
      "Observatoire         101.866801\n",
      "Batignolles-Monceau  102.612702\n",
      "Enclos-St-Laurent    102.967156\n",
      "Vaugirard            106.831330\n",
      "Opera                119.038644\n",
      "Pantheon             122.662150\n",
      "Temple               138.446823\n",
      "Hotel-de-Ville       144.472110\n",
      "Bourse               149.496801\n",
      "Luxembourg           155.638639\n",
      "Palais-Bourbon       156.856578\n",
      "Passy                161.144635\n",
      "Louvre               175.379972\n",
      "Elysee               210.536765\n"
     ]
    }
   ],
   "source": [
    "print(paris_listings_neighbourhood)"
   ]
  },
  {
   "cell_type": "code",
   "execution_count": 65,
   "id": "2e6db4eb",
   "metadata": {},
   "outputs": [],
   "source": [
    "paris_listings_accomodations = listingsInParis[listingsInParis['neighbourhood'] == 'Elysee'] \\\n",
    "    .groupby('accommodates') \\\n",
    "    .agg(avg_price=('price', 'mean')) \\\n",
    "    .sort_values(by='avg_price', ascending=True)\n"
   ]
  },
  {
   "cell_type": "code",
   "execution_count": 66,
   "id": "85b11f78",
   "metadata": {},
   "outputs": [
    {
     "name": "stdout",
     "output_type": "stream",
     "text": [
      "               avg_price\n",
      "accommodates            \n",
      "0               0.000000\n",
      "1              79.522222\n",
      "3             152.828767\n",
      "2             155.103352\n",
      "4             212.096070\n",
      "5             328.817073\n",
      "6             355.508571\n",
      "8             405.518519\n",
      "7             411.538462\n",
      "9             440.272727\n",
      "10            500.857143\n",
      "12            529.625000\n",
      "16            800.000000\n",
      "11            805.000000\n",
      "13            842.500000\n",
      "14            971.000000\n"
     ]
    }
   ],
   "source": [
    "print(paris_listings_accomodations)"
   ]
  },
  {
   "cell_type": "code",
   "execution_count": 67,
   "id": "4cb10c43",
   "metadata": {},
   "outputs": [],
   "source": [
    "paris_listings_over_time = (\n",
    "    listingsInParis.set_index(listingsInParis['host_since'].dt.year)\n",
    "    .groupby(listingsInParis['host_since'].dt.year)\n",
    "    .agg({'price': 'mean', 'neighbourhood': 'count'}).sort_index()\n",
    ")"
   ]
  },
  {
   "cell_type": "code",
   "execution_count": 68,
   "id": "03064d4b",
   "metadata": {},
   "outputs": [
    {
     "name": "stdout",
     "output_type": "stream",
     "text": [
      "                 price  neighbourhood\n",
      "host_since                           \n",
      "2011.0      141.456038           3412\n",
      "2012.0      112.869266          19184\n",
      "2015.0      107.581125          32943\n",
      "2016.0      138.209362           4294\n",
      "2017.0      108.658888           4585\n",
      "2018.0      122.828452            239\n"
     ]
    }
   ],
   "source": [
    "print(paris_listings_over_time)"
   ]
  },
  {
   "cell_type": "code",
   "execution_count": 51,
   "id": "9f2b7ec7",
   "metadata": {},
   "outputs": [],
   "source": [
    "import matplotlib.pyplot as plt\n",
    "import seaborn as sns"
   ]
  },
  {
   "cell_type": "code",
   "execution_count": 72,
   "id": "8c477b4f",
   "metadata": {},
   "outputs": [
    {
     "data": {
      "text/plain": [
       "Text(0, 0.5, 'Neighbourhood')"
      ]
     },
     "execution_count": 72,
     "metadata": {},
     "output_type": "execute_result"
    },
    {
     "data": {
      "image/png": "[encoded data removed]",
      "text/plain": [
       "<Figure size 1000x600 with 1 Axes>"
      ]
     },
     "metadata": {},
     "output_type": "display_data"
    }
   ],
   "source": [
    "ax = paris_listings_neighbourhood.plot.barh(figsize=(10, 6))\n",
    "ax.set_title('Average Price by Neighbourhood in Paris')\n",
    "ax.set_xlabel('Average Price (€)')\n",
    "ax.set_ylabel('Neighbourhood')"
   ]
  },
  {
   "cell_type": "code",
   "execution_count": 73,
   "id": "4d612c90",
   "metadata": {},
   "outputs": [
    {
     "data": {
      "text/plain": [
       "Text(0, 0.5, 'Accomodations')"
      ]
     },
     "execution_count": 73,
     "metadata": {},
     "output_type": "execute_result"
    },
    {
     "data": {
      "image/png": "[encoded data removed]",
      "text/plain": [
       "<Figure size 1000x600 with 1 Axes>"
      ]
     },
     "metadata": {},
     "output_type": "display_data"
    }
   ],
   "source": [
    "ax = paris_listings_accomodations.plot.barh(figsize=(10, 6))\n",
    "ax.set_title('Average Price by Accomodations in Paris')\n",
    "ax.set_xlabel('Average Price (€)')\n",
    "ax.set_ylabel('Accomodations')"
   ]
  },
  {
   "cell_type": "code",
   "execution_count": null,
   "id": "2d5e2db7",
   "metadata": {},
   "outputs": [
    {
     "data": {
      "image/png": "[encoded data removed]",
      "text/plain": [
       "<Figure size 1400x500 with 2 Axes>"
      ]
     },
     "metadata": {},
     "output_type": "display_data"
    }
   ],
   "source": [
    "fig, axes = plt.subplots(nrows=1, ncols=2, figsize=(14, 5))\n",
    "\n",
    "# --- Chart 1: New Hosts Over Time ---\n",
    "axes[0].plot(paris_listings_over_time.index, paris_listings_over_time['neighbourhood'], marker='o', color='royalblue')\n",
    "axes[0].set_title('Number of New Hosts Over Time')\n",
    "axes[0].set_xlabel('Year')\n",
    "axes[0].set_ylabel('Number of New Hosts')\n",
    "axes[0].set_ylim(bottom=0)\n",
    "\n",
    "# --- Chart 2: Average Price Over Time ---\n",
    "axes[1].plot(paris_listings_over_time.index, paris_listings_over_time['price'], marker='o', color='seagreen')\n",
    "axes[1].set_title('Average Price of Listings Over Time')\n",
    "axes[1].set_xlabel('Year')\n",
    "axes[1].set_ylabel('Average Price (€)')\n",
    "axes[1].set_ylim(bottom=0)\n",
    "\n",
    "\n",
    "plt.tight_layout()\n",
    "plt.show()\n"
   ]
  },
  {
   "cell_type": "markdown",
   "id": "dbead56d",
   "metadata": {},
   "source": [
    "We can see that the regulations adopted in 2015 clearly impacted the listings in the Paris market. The number of new hosts dropped drastically and the prices went up."
   ]
  }
 ],
 "metadata": {
  "kernelspec": {
   "display_name": "base",
   "language": "python",
   "name": "python3"
  },
  "language_info": {
   "codemirror_mode": {
    "name": "ipython",
    "version": 3
   },
   "file_extension": ".py",
   "mimetype": "text/x-python",
   "name": "python",
   "nbconvert_exporter": "python",
   "pygments_lexer": "ipython3",
   "version": "3.11.5"
  }
 },
 "nbformat": 4,
 "nbformat_minor": 5
}
